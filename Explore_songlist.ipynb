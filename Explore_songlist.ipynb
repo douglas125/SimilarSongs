{
 "cells": [
  {
   "cell_type": "markdown",
   "id": "d53d1cf6-0841-456a-98d3-7e608e80b65a",
   "metadata": {},
   "source": [
    "# Explore same song videos"
   ]
  },
  {
   "cell_type": "code",
   "execution_count": null,
   "id": "3cbe5b32-8396-428d-b4ab-c047124e22c9",
   "metadata": {},
   "outputs": [],
   "source": [
    "%load_ext autoreload\n",
    "%autoreload 2\n",
    "\n",
    "from utils import read_songs\n",
    "all_songs = read_songs.get_song_files()\n",
    "all_songs"
   ]
  },
  {
   "cell_type": "code",
   "execution_count": null,
   "id": "d1c095fe-e82a-4e7a-8bb7-16c2d5f2d2cf",
   "metadata": {},
   "outputs": [],
   "source": [
    "for s in all_songs:\n",
    "    print(s)\n",
    "    read_songs.download_songs(s)"
   ]
  },
  {
   "cell_type": "code",
   "execution_count": null,
   "id": "e5682014-d0b6-4e4b-9d87-0d2554510922",
   "metadata": {},
   "outputs": [],
   "source": [
    "read_songs.get_local_names(all_songs[1])"
   ]
  },
  {
   "cell_type": "code",
   "execution_count": null,
   "id": "37a2de8c-ab75-4c81-8f3f-07e57ec648bc",
   "metadata": {},
   "outputs": [],
   "source": []
  }
 ],
 "metadata": {
  "kernelspec": {
   "display_name": "Python 3 (ipykernel)",
   "language": "python",
   "name": "python3"
  },
  "language_info": {
   "codemirror_mode": {
    "name": "ipython",
    "version": 3
   },
   "file_extension": ".py",
   "mimetype": "text/x-python",
   "name": "python",
   "nbconvert_exporter": "python",
   "pygments_lexer": "ipython3",
   "version": "3.10.6"
  }
 },
 "nbformat": 4,
 "nbformat_minor": 5
}
